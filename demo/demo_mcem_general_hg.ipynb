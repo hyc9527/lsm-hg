{
 "cells": [
  {
   "cell_type": "markdown",
   "id": "19d0cce5",
   "metadata": {},
   "source": [
    "# Demo: run Monte Carlo EMs on simulated hypergraphs\n",
    "\n",
    "There are four variants of MCEM available for hypergraphs.\n",
    "- 1: 'rbst-prcr'\n",
    "- 2: 'rbst-norm'\n",
    "- 3: 'aggr-prcr'\n",
    "- 4: 'aggr-norm'\n",
    "\n",
    "MCEM algorithm\n",
    "\n",
    "- Input\n",
    "    - uniform/general hyperedge sets\n",
    "\n",
    "- Output \n",
    "    - shape parameter $\\hat{\\beta}$\n",
    "    - feature covariate $\\hat{X}$\n"
   ]
  },
  {
   "cell_type": "code",
   "execution_count": 1,
   "id": "2decc34a",
   "metadata": {},
   "outputs": [],
   "source": [
    "suppressPackageStartupMessages({\n",
    "    library(Rcpp)\n",
    "    library(geometry) # calculate convex hull volume\n",
    "    library(MASS)\n",
    "    library(mnormt) # generate mulvariate gaussian in porposal\n",
    "    library(ggplot2)\n",
    "    library(igraph) # graph alg and visualization\n",
    "    library(CVXR) # optimization used in warm start in mcem\n",
    "})\n",
    "sourceCpp('../code/helper_mcem.cpp') # mcem algorithms\n",
    "sourceCpp('../code/helper_comb.cpp') # combinatorial algorithms\n",
    "source('../code/helper_general.R') # general helpers\n",
    "source('../code/helper_mcem_cpp_user.R') # MCEM algorithms R wrapper using mcem helpers in cpp\n",
    "source('../code/helper_mcem_general_hg.R')"
   ]
  },
  {
   "cell_type": "markdown",
   "id": "969c5245",
   "metadata": {},
   "source": [
    "# 1. Generate uniform/general hypergraphs"
   ]
  },
  {
   "cell_type": "code",
   "execution_count": 2,
   "id": "b9244996",
   "metadata": {},
   "outputs": [],
   "source": [
    "n.demo = 7                                              #--------Model specs-----#\n",
    "if (TRUE){ # uniform hypergraph\n",
    "    mix.k.demo = c(2)                                   #--------Model specs-----#\n",
    "    mix.true.beta.demo =c(1e-1)                         #--------Model specs-----#\n",
    "}\n",
    "if (FALSE){ # general hypergraph\n",
    "    mix.k.demo = c(2,3)                                 #--------Model specs-----#\n",
    "    mix.true.beta.demo =c(1e-1,1e-3)                    #--------Model specs-----#\n",
    "}\n",
    "mix.edge.demo = mix.count.demo = mix.subset.mat.demo = list()\n",
    "for (i in 1:len(mix.k.demo)){\n",
    "        #i=1\n",
    "        k.demo = mix.k.demo[i]\n",
    "        true.beta.demo = mix.true.beta.demo[i]\n",
    "        num.sample.demo  = 10*choose(n.demo, k.demo)\n",
    "        p.demo = 2\n",
    "        mu.demo = 0\n",
    "        var.demo = 1\n",
    "        feat.mat.demo = get.gaussian.featmat(nrow = n.demo, ncol = p.demo,\n",
    "                                            mean = mu.demo, var1 = var.demo, cov12 = 0)\n",
    "        feat.mat.demo = standerize.matrix(feat.mat.demo)\n",
    "        dim(feat.mat.demo)\n",
    "        save(feat.mat.demo, file = 'feat.mat.demo.standarized.n50p2.Rdata')\n",
    "        mix.subset.mat.demo[[i]] = find_subset(n.demo, k.demo)\n",
    "        shape.vec = c('gamma','pareto','gaussian', 'window')\n",
    "        which.shape.demo = shape.vec[1]\n",
    "        save.path = \"./output/\"\n",
    "        sim.data =sample.from.shape.cvxhull(n = n.demo, k = k.demo,\n",
    "                                            subset.mat = mix.subset.mat.demo[[i]],\n",
    "                                            feat.mat = feat.mat.demo,\n",
    "                                            num.sample = num.sample.demo,\n",
    "                                            which.shape = which.shape.demo, param.vec = c(1, true.beta.demo),\n",
    "                                            if.save.sample = F, save.path = save.path )\n",
    "        mix.edge.demo[[i]] = sim.data$edge.sampled\n",
    "        mix.count.demo[[i]] = sim.data$count.vec\n",
    "}\n",
    "\n"
   ]
  },
  {
   "cell_type": "markdown",
   "id": "19627f2a",
   "metadata": {},
   "source": [
    "# Run MCEM\n",
    "\n",
    "MCEMs dict:\n",
    "- 1: 'rbst-prcr'\n",
    "- 2: 'rbst-norm'\n",
    "- 3: 'aggr-prcr'\n",
    "- 4: 'aggr-norm'\n"
   ]
  },
  {
   "cell_type": "code",
   "execution_count": 3,
   "id": "c87efcf7",
   "metadata": {},
   "outputs": [
    {
     "name": "stdout",
     "output_type": "stream",
     "text": [
      "[1] \"rbst-prcr\" \"is chose.\"\n",
      "Aug-16-06-57-55 | #### check mcem is to run on k = 2.00\n",
      "Aug-16-06-57-55 | MCEM on  k = 2 \n",
      "[1] \"MCEM: robust-prcr\"\n",
      "Aug-16-06-57-56 |  *** robust MCEM on 2-unif hg is starting \n",
      "Aug-16-06-57-56 | Initial round: lkhd = -6.39350e+02, beta  = 0.000 \n",
      "Aug-16-06-57-56 | 2th round: lkhd.estep = -6.39350e+02, beta = 0.113, lkhd.mstep = -6.21958e+02 \n",
      "Aug-16-06-57-56 | 3th round: lkhd.estep = -6.30375e+02, beta = 0.089, lkhd.mstep = -6.29686e+02 \n",
      "Aug-16-06-57-56 | 4th round: lkhd.estep = -6.26770e+02, beta = 0.117, lkhd.mstep = -6.25627e+02 \n",
      "Aug-16-06-57-56 | 5th round: lkhd.estep = -6.37482e+02, beta = 0.065, lkhd.mstep = -6.32619e+02 \n",
      "Aug-16-06-57-56 | 6th round: lkhd.estep = -6.31906e+02, beta = 0.080, lkhd.mstep = -6.30479e+02 \n",
      "Aug-16-06-57-56 | 7th round: lkhd.estep = -6.36560e+02, beta = 0.056, lkhd.mstep = -6.34108e+02 \n",
      "Aug-16-06-57-56 | 8th round: lkhd.estep = -6.38935e+02, beta = 0.046, lkhd.mstep = -6.35990e+02 \n",
      "Aug-16-06-57-56 | 9th round: lkhd.estep = -6.35720e+02, beta = 0.061, lkhd.mstep = -6.33314e+02 \n",
      "Aug-16-06-57-56 | 10th round: lkhd.estep = -6.44041e+02, beta = 0.047, lkhd.mstep = -6.34327e+02 \n",
      "Aug-16-06-57-56 | 11th round: lkhd.estep = -6.32954e+02, beta = 0.064, lkhd.mstep = -6.31409e+02 \n",
      "Aug-16-06-57-56 | 12th round: lkhd.estep = -6.34490e+02, beta = 0.066, lkhd.mstep = -6.32421e+02 \n",
      "Aug-16-06-57-56 | 13th round: lkhd.estep = -6.38569e+02, beta = 0.056, lkhd.mstep = -6.33925e+02 \n",
      "Aug-16-06-57-56 | 14th round: lkhd.estep = -6.35730e+02, beta = 0.043, lkhd.mstep = -6.33558e+02 \n",
      "Aug-16-06-57-56 | 15th round: lkhd.estep = -6.35975e+02, beta = 0.043, lkhd.mstep = -6.33874e+02 \n",
      "Aug-16-06-57-56 | 16th round: lkhd.estep = -6.34676e+02, beta = 0.055, lkhd.mstep = -6.33720e+02 \n",
      "Aug-16-06-57-56 | 17th round: lkhd.estep = -6.33117e+02, beta = 0.060, lkhd.mstep = -6.31890e+02 \n",
      "Aug-16-06-57-56 | 18th round: lkhd.estep = -6.39135e+02, beta = 0.054, lkhd.mstep = -6.34471e+02 \n",
      "Aug-16-06-57-56 | 19th round: lkhd.estep = -6.37771e+02, beta = 0.051, lkhd.mstep = -6.34703e+02 \n",
      "Aug-16-06-57-56 | 20th round: lkhd.estep = -6.34784e+02, beta = 0.069, lkhd.mstep = -6.31344e+02 \n",
      "Aug-16-06-57-56 | *** robust MCEM-a1b2c1 is finished \n",
      "Aug-16-06-57-56 | *** MCEM for general hypergraph is finished.  \n",
      "[1] \"hypergraph cardinalities:\"\n",
      "[1] 2\n",
      "[1] \"beta est are:\"\n",
      "[1] 0.06865175\n",
      "[1] \"feat.est is:\"\n",
      "           [,1]       [,2]\n",
      "[1,] -0.2177164  9.6494324\n",
      "[2,] -0.5276008 -9.3189235\n",
      "[3,]  0.1082616 -1.1846289\n",
      "[4,] -0.5052797  0.2797328\n",
      "[5,]  1.0796038 -0.8659264\n",
      "[6,] -1.2285813 -1.2600208\n",
      "[7,]  1.2913128  2.7003344\n"
     ]
    }
   ],
   "source": [
    "set.seed(123)\n",
    "\n",
    "# Pick one mcem from the list\n",
    "which.mcem.demo = 1\n",
    "res=run.mcem.general.hypergraph(which.mcem=which.mcem.demo,isVerboseResult = FALSE, isSaveResult = FALSE)\n",
    "\n",
    "print('hypergraph cardinalities:')\n",
    "print(mix.k.demo)\n",
    "print('beta est are:')\n",
    "print(res$beta.hat)\n",
    "print('feat.est is:')\n",
    "print(res$feat.hat)"
   ]
  },
  {
   "cell_type": "code",
   "execution_count": null,
   "id": "00371958",
   "metadata": {},
   "outputs": [],
   "source": []
  }
 ],
 "metadata": {
  "kernelspec": {
   "display_name": "R",
   "language": "R",
   "name": "ir"
  },
  "language_info": {
   "codemirror_mode": "r",
   "file_extension": ".r",
   "mimetype": "text/x-r-source",
   "name": "R",
   "pygments_lexer": "r",
   "version": "4.1.3"
  }
 },
 "nbformat": 4,
 "nbformat_minor": 5
}
